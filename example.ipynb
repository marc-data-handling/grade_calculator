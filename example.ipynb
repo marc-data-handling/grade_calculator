{
 "cells": [
  {
   "cell_type": "code",
   "execution_count": 1,
   "id": "6686c31e-58e1-4fa2-8457-43c1203c95e7",
   "metadata": {},
   "outputs": [],
   "source": [
    "# The main purpose of this jupyter notebook is to generate an instance of the objects Student and subject and demonstrate the methods of the two classes"
   ]
  },
  {
   "cell_type": "code",
   "execution_count": 2,
   "id": "5f81bef6-bdb3-44ab-8cfc-5e03891e1087",
   "metadata": {},
   "outputs": [
    {
     "data": {
      "text/plain": [
       "Student(name : Jonas, credits_needed : 180, subjects : [Subject(name : BWL A, grade : 4.5, credits : 5.5, mandatory : True, semester: 1), Subject(name : VWL A, grade : 5.25, credits : 5.5, mandatory : True, semester: 1), Subject(name : Recht A, grade : 4.75, credits : 5.5, mandatory : True, semester: 1), Subject(name : Math A, grade : 4.25, credits : 3.5, mandatory : True, semester: 1), Subject(name : Buchhaltung, grade : 5.5, credits : 0.0, mandatory : True, semester: 1), Subject(name : EWS, grade : 5.75, credits : 3.0, mandatory : True, semester: 1), Subject(name : Soziologie: Religion, grade : 5.5, credits : 2.0, mandatory : False, semester: 1), Subject(name : BWL B, grade : 5.25, credits : 5.5, mandatory : True, semester: 2), Subject(name : VWL B, grade : 5.0, credits : 5.5, mandatory : True, semester: 2), Subject(name : Recht B, grade : 5.0, credits : 5.5, mandatory : True, semester: 2), Subject(name : Math B, grade : 5.0, credits : 3.5, mandatory : True, semester: 2), Subject(name : WHA, grade : 4.5, credits : 4.5, mandatory : True, semester: 2), Subject(name : IP, grade : 5.0, credits : 4.0, mandatory : True, semester: 2), Subject(name : Geschichte: Schweiz, grade : 5.25, credits : 2.0, mandatory : False, semester: 2), Subject(name : Englisch C1, grade : 5.0, credits : 4.0, mandatory : False, semester: 2), Subject(name : Strategisches Management, grade : 5.25, credits : 4.0, mandatory : True, semester: 3), Subject(name : Statistik, grade : 5.0, credits : 4.0, mandatory : True, semester: 3), Subject(name : Makroökonomik 2, grade : 5.0, credits : 5.5, mandatory : True, semester: 3), Subject(name : Data Handling, grade : 5.0, credits : 4.0, mandatory : False, semester: 3), Subject(name : Startwochentutor, grade : 5.5, credits : 2.0, mandatory : False, semester: 3), Subject(name : Summer School, grade : 5.5, credits : 2.0, mandatory : False, semester: 3), Subject(name : Workshop: DSF, grade : 5.25, credits : 8.0, mandatory : False, semester: 3), Subject(name : Energy Markets, grade : 5.25, credits : 4.0, mandatory : False, semester: 4), Subject(name : Controlling, grade : 5.0, credits : 4.0, mandatory : True, semester: 4), Subject(name : Operations 2, grade : 5.0, credits : 5.5, mandatory : True, semester: 4), Subject(name : Finance, grade : 5.0, credits : 4.0, mandatory : True, semester: 4), Subject(name : Programming, grade : 5.0, credits : 2.0, mandatory : False, semester: 4), Subject(name : Multidiciplinary Risks, grade : 4.75, credits : 4.0, mandatory : True, semester: 8), Subject(name : Computer Science, grade : 5.25, credits : 8.0, mandatory : True, semester: 4)])"
      ]
     },
     "execution_count": 2,
     "metadata": {},
     "output_type": "execute_result"
    }
   ],
   "source": [
    "from student import Student\n",
    "from subject import Subject\n",
    "\n",
    "student = Student(\"Jonas\", 180)\n",
    "student.generate_subject(\"BWL A\", 4.5, 5.5, True, 1)\n",
    "student.generate_subject(\"VWL A\", 5.25, 5.5, True, 1)\n",
    "student.generate_subject(\"Recht A\", 4.75, 5.5, True, 1)\n",
    "student.generate_subject(\"Math A\", 4.25, 3.5, True, 1)\n",
    "student.generate_subject(\"Buchhaltung\", 5.5, 0, True, 1)\n",
    "student.generate_subject(\"EWS\", 5.75, 3, True ,1)\n",
    "student.generate_subject(\"Soziologie: Religion\", 5.5, 2, False, 1)\n",
    "\n",
    "student.generate_subject(\"BWL B\", 5.25, 5.5, True, 2)\n",
    "student.generate_subject(\"VWL B\", 5, 5.5, True, 2)\n",
    "student.generate_subject(\"Recht B\", 5, 5.5, True, 2)\n",
    "student.generate_subject(\"Math B\", 5, 3.5, True, 2)\n",
    "student.generate_subject(\"WHA\", 4.5, 4.5, True, 2)\n",
    "student.generate_subject(\"IP\", 5, 4, True, 2)\n",
    "student.generate_subject(\"Geschichte: Schweiz\", 5.25, 2, False, 2)\n",
    "student.generate_subject(\"Englisch C1\", 5, 4, False, 2)\n",
    "\n",
    "student.generate_subject(\"Strategisches Management\", 5.25, 4, True, 3)\n",
    "student.generate_subject(\"Statistik\", 5, 4, True, 3)\n",
    "student.generate_subject(\"Makroökonomik 2\", 5, 5.5, True, 3)\n",
    "student.generate_subject(\"Data Handling\", 5, 4, False, 3)\n",
    "student.generate_subject(\"Startwochentutor\", 5.5, 2, False, 3)\n",
    "student.generate_subject(\"Summer School\", 5.5, 2, False, 3)\n",
    "student.generate_subject(\"Workshop: DSF\", 5.25, 8, False, 3)\n",
    "\n",
    "student.generate_subject(\"Energy Markets\", 5.25, 4, False, 4)\n",
    "student.generate_subject(\"Controlling\", 5, 4, True, 4)\n",
    "student.generate_subject(\"Operations 2\", 5, 5.5, True, 4)\n",
    "student.generate_subject(\"Finance\", 5, 4, True, 4)\n",
    "student.generate_subject(\"Programming\", 5, 2, False, 4)\n",
    "student.generate_subject(\"Multidiciplinary Risks\", 4.75, 4, True, 8)\n",
    "student.generate_subject(\"Computer Science\", 5.25, 8, True, 4)\n",
    "              \n",
    "student"
   ]
  },
  {
   "cell_type": "code",
   "execution_count": 3,
   "id": "12979f87-f0dc-449b-9eb8-172340495ff9",
   "metadata": {},
   "outputs": [
    {
     "name": "stdout",
     "output_type": "stream",
     "text": [
      "This is Jonas with a gpa of 5.037\n"
     ]
    }
   ],
   "source": [
    "print(student)"
   ]
  },
  {
   "cell_type": "code",
   "execution_count": 4,
   "id": "053975e6-005b-49d1-bf96-7af87c0af7fb",
   "metadata": {},
   "outputs": [
    {
     "data": {
      "text/plain": [
       "Subject(name : Sports, grade : 3.0, credits : 8.0, mandatory : False, semester: 3)"
      ]
     },
     "execution_count": 4,
     "metadata": {},
     "output_type": "execute_result"
    }
   ],
   "source": [
    "student.generate_subject(\"Sports\", 3, 8, False, 3)"
   ]
  },
  {
   "cell_type": "code",
   "execution_count": 5,
   "id": "2ba64ff5-a183-4dc1-aa0f-7a89f937b267",
   "metadata": {},
   "outputs": [
    {
     "data": {
      "text/html": [
       "<div>\n",
       "<style scoped>\n",
       "    .dataframe tbody tr th:only-of-type {\n",
       "        vertical-align: middle;\n",
       "    }\n",
       "\n",
       "    .dataframe tbody tr th {\n",
       "        vertical-align: top;\n",
       "    }\n",
       "\n",
       "    .dataframe thead th {\n",
       "        text-align: right;\n",
       "    }\n",
       "</style>\n",
       "<table border=\"1\" class=\"dataframe\">\n",
       "  <thead>\n",
       "    <tr style=\"text-align: right;\">\n",
       "      <th></th>\n",
       "      <th>Subject</th>\n",
       "      <th>Grade</th>\n",
       "      <th>Credits</th>\n",
       "      <th>Mandatory</th>\n",
       "      <th>Semester</th>\n",
       "    </tr>\n",
       "  </thead>\n",
       "  <tbody>\n",
       "    <tr>\n",
       "      <th>24</th>\n",
       "      <td>Operations 2</td>\n",
       "      <td>5.00</td>\n",
       "      <td>5.5</td>\n",
       "      <td>True</td>\n",
       "      <td>4</td>\n",
       "    </tr>\n",
       "    <tr>\n",
       "      <th>25</th>\n",
       "      <td>Finance</td>\n",
       "      <td>5.00</td>\n",
       "      <td>4.0</td>\n",
       "      <td>True</td>\n",
       "      <td>4</td>\n",
       "    </tr>\n",
       "    <tr>\n",
       "      <th>26</th>\n",
       "      <td>Programming</td>\n",
       "      <td>5.00</td>\n",
       "      <td>2.0</td>\n",
       "      <td>False</td>\n",
       "      <td>4</td>\n",
       "    </tr>\n",
       "    <tr>\n",
       "      <th>27</th>\n",
       "      <td>Multidiciplinary Risks</td>\n",
       "      <td>4.75</td>\n",
       "      <td>4.0</td>\n",
       "      <td>True</td>\n",
       "      <td>8</td>\n",
       "    </tr>\n",
       "    <tr>\n",
       "      <th>28</th>\n",
       "      <td>Computer Science</td>\n",
       "      <td>5.25</td>\n",
       "      <td>8.0</td>\n",
       "      <td>True</td>\n",
       "      <td>4</td>\n",
       "    </tr>\n",
       "  </tbody>\n",
       "</table>\n",
       "</div>"
      ],
      "text/plain": [
       "                   Subject  Grade  Credits  Mandatory  Semester\n",
       "24            Operations 2   5.00      5.5       True         4\n",
       "25                 Finance   5.00      4.0       True         4\n",
       "26             Programming   5.00      2.0      False         4\n",
       "27  Multidiciplinary Risks   4.75      4.0       True         8\n",
       "28        Computer Science   5.25      8.0       True         4"
      ]
     },
     "execution_count": 5,
     "metadata": {},
     "output_type": "execute_result"
    }
   ],
   "source": [
    "student.delete_subject(\"Sports\").tail()"
   ]
  },
  {
   "cell_type": "code",
   "execution_count": 6,
   "id": "c2a41b9b-f920-4663-9a2c-2277d245189b",
   "metadata": {},
   "outputs": [
    {
     "data": {
      "text/plain": [
       "{'BWL A': {'Grade': 4.5, 'Credits': 4.5}}"
      ]
     },
     "execution_count": 6,
     "metadata": {},
     "output_type": "execute_result"
    }
   ],
   "source": [
    "subject_found = student.find_subject_by_name(\"BWL A\")\n",
    "subject_found"
   ]
  },
  {
   "cell_type": "code",
   "execution_count": 7,
   "id": "99556188-0bb4-4501-b1a6-087af3bea99d",
   "metadata": {},
   "outputs": [
    {
     "data": {
      "text/plain": [
       "4.5"
      ]
     },
     "execution_count": 7,
     "metadata": {},
     "output_type": "execute_result"
    }
   ],
   "source": [
    "subject_found['BWL A']['Grade']"
   ]
  },
  {
   "cell_type": "code",
   "execution_count": 8,
   "id": "15445d08-f636-4186-9e9e-e89b5f224ff4",
   "metadata": {},
   "outputs": [
    {
     "data": {
      "text/plain": [
       "{5.75: ['EWS'], 4.25: ['Math A']}"
      ]
     },
     "execution_count": 8,
     "metadata": {},
     "output_type": "execute_result"
    }
   ],
   "source": [
    "student.get_best_and_worst_grades()"
   ]
  },
  {
   "cell_type": "code",
   "execution_count": 9,
   "id": "5651fa02-20eb-471e-b830-2fd10507e48b",
   "metadata": {},
   "outputs": [
    {
     "data": {
      "text/plain": [
       "5.037"
      ]
     },
     "execution_count": 9,
     "metadata": {},
     "output_type": "execute_result"
    }
   ],
   "source": [
    "student.calculate_gpa()"
   ]
  },
  {
   "cell_type": "code",
   "execution_count": 10,
   "id": "4995ec59-3cfe-4543-b1c0-046ece693e46",
   "metadata": {},
   "outputs": [
    {
     "data": {
      "text/plain": [
       "{1: 4.915, 2: 4.989, 3: 5.169, 4: 5.109, 8: 4.75}"
      ]
     },
     "execution_count": 10,
     "metadata": {},
     "output_type": "execute_result"
    }
   ],
   "source": [
    "student.calculate_gpa_by_semester()"
   ]
  },
  {
   "cell_type": "code",
   "execution_count": 11,
   "id": "3cea39e7-af98-44cc-91e8-71382f0c8e61",
   "metadata": {},
   "outputs": [
    {
     "data": {
      "text/plain": [
       "{'mandatory': 4.978, 'optional': 5.217}"
      ]
     },
     "execution_count": 11,
     "metadata": {},
     "output_type": "execute_result"
    }
   ],
   "source": [
    "student.calculate_gpa_by_mandatory_status()"
   ]
  },
  {
   "cell_type": "code",
   "execution_count": 12,
   "id": "0802052b-1be8-4244-acc2-b5eba79d267f",
   "metadata": {},
   "outputs": [
    {
     "data": {
      "text/html": [
       "<div>\n",
       "<style scoped>\n",
       "    .dataframe tbody tr th:only-of-type {\n",
       "        vertical-align: middle;\n",
       "    }\n",
       "\n",
       "    .dataframe tbody tr th {\n",
       "        vertical-align: top;\n",
       "    }\n",
       "\n",
       "    .dataframe thead th {\n",
       "        text-align: right;\n",
       "    }\n",
       "</style>\n",
       "<table border=\"1\" class=\"dataframe\">\n",
       "  <thead>\n",
       "    <tr style=\"text-align: right;\">\n",
       "      <th></th>\n",
       "      <th>Subject</th>\n",
       "      <th>Grade</th>\n",
       "      <th>Credits</th>\n",
       "      <th>Mandatory</th>\n",
       "      <th>Semester</th>\n",
       "    </tr>\n",
       "  </thead>\n",
       "  <tbody>\n",
       "    <tr>\n",
       "      <th>0</th>\n",
       "      <td>BWL A</td>\n",
       "      <td>4.50</td>\n",
       "      <td>5.5</td>\n",
       "      <td>True</td>\n",
       "      <td>1</td>\n",
       "    </tr>\n",
       "    <tr>\n",
       "      <th>1</th>\n",
       "      <td>VWL A</td>\n",
       "      <td>5.25</td>\n",
       "      <td>5.5</td>\n",
       "      <td>True</td>\n",
       "      <td>1</td>\n",
       "    </tr>\n",
       "    <tr>\n",
       "      <th>2</th>\n",
       "      <td>Recht A</td>\n",
       "      <td>4.75</td>\n",
       "      <td>5.5</td>\n",
       "      <td>True</td>\n",
       "      <td>1</td>\n",
       "    </tr>\n",
       "    <tr>\n",
       "      <th>3</th>\n",
       "      <td>Math A</td>\n",
       "      <td>4.25</td>\n",
       "      <td>3.5</td>\n",
       "      <td>True</td>\n",
       "      <td>1</td>\n",
       "    </tr>\n",
       "    <tr>\n",
       "      <th>4</th>\n",
       "      <td>Buchhaltung</td>\n",
       "      <td>5.50</td>\n",
       "      <td>0.0</td>\n",
       "      <td>True</td>\n",
       "      <td>1</td>\n",
       "    </tr>\n",
       "  </tbody>\n",
       "</table>\n",
       "</div>"
      ],
      "text/plain": [
       "       Subject  Grade  Credits  Mandatory  Semester\n",
       "0        BWL A   4.50      5.5       True         1\n",
       "1        VWL A   5.25      5.5       True         1\n",
       "2      Recht A   4.75      5.5       True         1\n",
       "3       Math A   4.25      3.5       True         1\n",
       "4  Buchhaltung   5.50      0.0       True         1"
      ]
     },
     "execution_count": 12,
     "metadata": {},
     "output_type": "execute_result"
    }
   ],
   "source": [
    "student.generate_grade_transcript().head()"
   ]
  },
  {
   "cell_type": "code",
   "execution_count": 13,
   "id": "601925fd-4d65-46b7-b7fd-4094b38a2fc0",
   "metadata": {},
   "outputs": [
    {
     "data": {
      "image/png": "[encoded data removed]",
      "text/plain": [
       "<Figure size 432x288 with 1 Axes>"
      ]
     },
     "metadata": {
      "needs_background": "light"
     },
     "output_type": "display_data"
    }
   ],
   "source": [
    "grade_distribution=student.get_grade_distribution()"
   ]
  },
  {
   "cell_type": "code",
   "execution_count": 14,
   "id": "de49d4a8-984a-4ea6-9818-e1b01c7cffc1",
   "metadata": {},
   "outputs": [
    {
     "data": {
      "image/png": "[encoded data removed]",
      "text/plain": [
       "<Figure size 432x288 with 1 Axes>"
      ]
     },
     "metadata": {
      "needs_background": "light"
     },
     "output_type": "display_data"
    }
   ],
   "source": [
    "progress = student.plot_credits()"
   ]
  },
  {
   "cell_type": "code",
   "execution_count": 19,
   "id": "65834bbf-44b0-43c1-836d-080091b65fbe",
   "metadata": {},
   "outputs": [
    {
     "name": "stdout",
     "output_type": "stream",
     "text": [
      "There is no file with the name df\n"
     ]
    }
   ],
   "source": [
    "student02 = Student(\"Jack\",120)\n",
    "student02.load_grade_transcript(\"df\") # If a previous grade_transcript is saved with a different name, you can enter the name as an argument for the method"
   ]
  },
  {
   "cell_type": "code",
   "execution_count": 16,
   "id": "134dede3-e7d1-4fdb-a71d-b5bd4e7cdc3a",
   "metadata": {},
   "outputs": [
    {
     "data": {
      "text/plain": [
       "Subject(name : Introduction Programming, grade : 5.5, credits : 2.0, mandatory : False, semester: 4)"
      ]
     },
     "execution_count": 16,
     "metadata": {},
     "output_type": "execute_result"
    }
   ],
   "source": [
    "subject = Subject(\"Introduction Programming\", 5.5, 2, False, 4)\n",
    "subject"
   ]
  },
  {
   "cell_type": "code",
   "execution_count": 17,
   "id": "d430ed52-2912-40eb-aa63-ac8c6132c1f9",
   "metadata": {},
   "outputs": [
    {
     "name": "stdout",
     "output_type": "stream",
     "text": [
      "This subject is called Introduction Programming and was completed with a 5.5\n"
     ]
    }
   ],
   "source": [
    "print(subject)"
   ]
  }
 ],
 "metadata": {
  "kernelspec": {
   "display_name": "Python 3 (ipykernel)",
   "language": "python",
   "name": "python3"
  },
  "language_info": {
   "codemirror_mode": {
    "name": "ipython",
    "version": 3
   },
   "file_extension": ".py",
   "mimetype": "text/x-python",
   "name": "python",
   "nbconvert_exporter": "python",
   "pygments_lexer": "ipython3",
   "version": "3.9.12"
  }
 },
 "nbformat": 4,
 "nbformat_minor": 5
}
